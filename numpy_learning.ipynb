{
 "cells": [
  {
   "cell_type": "code",
   "execution_count": 3,
   "id": "adfb7408-2b3b-4e8e-b288-5241c17a8040",
   "metadata": {},
   "outputs": [],
   "source": [
    "import numpy as np\n"
   ]
  },
  {
   "cell_type": "code",
   "execution_count": 35,
   "id": "f39c8d12",
   "metadata": {},
   "outputs": [
    {
     "data": {
      "text/plain": [
       "array([[1, 2, 3],\n",
       "       [4, 5, 6]])"
      ]
     },
     "execution_count": 35,
     "metadata": {},
     "output_type": "execute_result"
    }
   ],
   "source": [
    "a=np.array([[1,2,3],[4,5,6]])\n",
    "a.shape\n",
    "a"
   ]
  },
  {
   "cell_type": "markdown",
   "id": "4a6561e2",
   "metadata": {},
   "source": [
    "创建随机数组"
   ]
  },
  {
   "cell_type": "code",
   "execution_count": 10,
   "id": "311fa488",
   "metadata": {},
   "outputs": [
    {
     "data": {
      "text/plain": [
       "array([[0.78098411, 0.28376005, 0.16224387],\n",
       "       [0.89372371, 0.63020874, 0.66666255],\n",
       "       [0.42315765, 0.71244233, 0.26449589]])"
      ]
     },
     "execution_count": 10,
     "metadata": {},
     "output_type": "execute_result"
    }
   ],
   "source": [
    "random_array=np.random.rand(3,3)\n",
    "random_array"
   ]
  },
  {
   "cell_type": "markdown",
   "id": "d2bbca51",
   "metadata": {},
   "source": [
    "数组排序"
   ]
  },
  {
   "cell_type": "code",
   "execution_count": 33,
   "id": "2c931434",
   "metadata": {},
   "outputs": [
    {
     "data": {
      "text/plain": [
       "array([[0.16224387, 0.28376005, 0.78098411],\n",
       "       [0.63020874, 0.66666255, 0.89372371],\n",
       "       [0.26449589, 0.42315765, 0.71244233]])"
      ]
     },
     "execution_count": 33,
     "metadata": {},
     "output_type": "execute_result"
    }
   ],
   "source": [
    "sorted_array_row=np.sort(random_array)\n",
    "sorted_array_row\n"
   ]
  },
  {
   "cell_type": "code",
   "execution_count": 23,
   "id": "5d37db3a",
   "metadata": {},
   "outputs": [
    {
     "data": {
      "text/plain": [
       "array([[0.42315765, 0.28376005, 0.16224387],\n",
       "       [0.78098411, 0.63020874, 0.26449589],\n",
       "       [0.89372371, 0.71244233, 0.66666255]])"
      ]
     },
     "execution_count": 23,
     "metadata": {},
     "output_type": "execute_result"
    }
   ],
   "source": [
    "sorted_array_column=np.sort(random_array,axis=0)\n",
    "sorted_array_column"
   ]
  },
  {
   "cell_type": "markdown",
   "id": "2f0ae873",
   "metadata": {},
   "source": [
    "数组分割"
   ]
  },
  {
   "cell_type": "code",
   "execution_count": 29,
   "id": "7d369943",
   "metadata": {},
   "outputs": [
    {
     "data": {
      "text/plain": [
       "[array([[0.42315765],\n",
       "        [0.78098411],\n",
       "        [0.89372371]]),\n",
       " array([[0.28376005],\n",
       "        [0.63020874],\n",
       "        [0.71244233]]),\n",
       " array([[0.16224387],\n",
       "        [0.26449589],\n",
       "        [0.66666255]])]"
      ]
     },
     "execution_count": 29,
     "metadata": {},
     "output_type": "execute_result"
    }
   ],
   "source": [
    "np.array_split(sorted_array_column,3,axis=1)"
   ]
  },
  {
   "cell_type": "code",
   "execution_count": 30,
   "id": "e0851011",
   "metadata": {},
   "outputs": [
    {
     "data": {
      "text/plain": [
       "[array([[0.42315765, 0.28376005],\n",
       "        [0.78098411, 0.63020874],\n",
       "        [0.89372371, 0.71244233]]),\n",
       " array([[0.16224387],\n",
       "        [0.26449589],\n",
       "        [0.66666255]])]"
      ]
     },
     "execution_count": 30,
     "metadata": {},
     "output_type": "execute_result"
    }
   ],
   "source": [
    "np.array_split(sorted_array_column,2,axis=1)"
   ]
  },
  {
   "cell_type": "code",
   "execution_count": 40,
   "id": "101c01d6",
   "metadata": {},
   "outputs": [
    {
     "data": {
      "text/plain": [
       "array([[1, 2, 7],\n",
       "       [3, 4, 8],\n",
       "       [5, 6, 9]])"
      ]
     },
     "execution_count": 40,
     "metadata": {},
     "output_type": "execute_result"
    }
   ],
   "source": [
    "# 创建一个 3x2 的矩阵\n",
    "data = np.array([[1, 2],\n",
    "                 [3, 4],\n",
    "                 [5, 6]])\n",
    "\n",
    "# 增加一列\n",
    "new_column = np.array([7, 8, 9])\n",
    "data_with_new_column = np.append(data, new_column.reshape(-1, 1), axis=1)\n",
    "data_with_new_column"
   ]
  },
  {
   "cell_type": "markdown",
   "id": "a091c869",
   "metadata": {},
   "source": [
    "逆矩阵"
   ]
  },
  {
   "cell_type": "code",
   "execution_count": 44,
   "id": "82d2d1a1",
   "metadata": {},
   "outputs": [
    {
     "name": "stdout",
     "output_type": "stream",
     "text": [
      "矩阵 A:\n",
      " [[1 2]\n",
      " [3 4]]\n",
      "逆矩阵 A_inv:\n",
      " [[-2.   1. ]\n",
      " [ 1.5 -0.5]]\n"
     ]
    }
   ],
   "source": [
    "# 定义一个矩阵\n",
    "A = np.array([[1, 2],\n",
    "              [3, 4]])\n",
    "\n",
    "# 计算逆矩阵\n",
    "A_inv = np.linalg.inv(A)\n",
    "\n",
    "print(\"矩阵 A:\\n\", A)\n",
    "print(\"逆矩阵 A_inv:\\n\", A_inv)"
   ]
  },
  {
   "cell_type": "code",
   "execution_count": 45,
   "id": "b70ecc0b",
   "metadata": {},
   "outputs": [
    {
     "name": "stdout",
     "output_type": "stream",
     "text": [
      "矩阵:\n",
      " [[1 2 7]\n",
      " [3 4 8]\n",
      " [5 6 9]]\n",
      "逆矩阵:\n",
      " [[-1.12589991e+15  2.25179981e+15 -1.12589991e+15]\n",
      " [ 1.21972490e+15 -2.43944980e+15  1.21972490e+15]\n",
      " [-1.87649984e+14  3.75299969e+14 -1.87649984e+14]]\n"
     ]
    }
   ],
   "source": [
    "data_inv=np.linalg.inv(data_with_new_column)\n",
    "print(\"矩阵:\\n\",data_with_new_column)\n",
    "print(\"逆矩阵:\\n\",data_inv)"
   ]
  },
  {
   "cell_type": "markdown",
   "id": "9b14aeea",
   "metadata": {},
   "source": [
    "计算矩阵行列式"
   ]
  },
  {
   "cell_type": "code",
   "execution_count": 46,
   "id": "d3576c62",
   "metadata": {},
   "outputs": [
    {
     "name": "stdout",
     "output_type": "stream",
     "text": [
      "行列式 det(A): -2.0000000000000004\n",
      "逆矩阵 A_inv:\n",
      " [[-2.   1. ]\n",
      " [ 1.5 -0.5]]\n",
      "验证 A * A_inv:\n",
      " [[1.0000000e+00 0.0000000e+00]\n",
      " [8.8817842e-16 1.0000000e+00]]\n"
     ]
    }
   ],
   "source": [
    "# 定义一个矩阵\n",
    "A = np.array([[1, 2],\n",
    "              [3, 4]])\n",
    "\n",
    "# 计算行列式\n",
    "det_A = np.linalg.det(A)\n",
    "print(\"行列式 det(A):\", det_A)\n",
    "\n",
    "# 如果行列式不为 0，计算逆矩阵\n",
    "if det_A != 0:\n",
    "    A_inv = np.linalg.inv(A)\n",
    "    print(\"逆矩阵 A_inv:\\n\", A_inv)\n",
    "\n",
    "    # 验证逆矩阵的正确性：A * A_inv 应该接近单位矩阵\n",
    "    identity_matrix = np.dot(A, A_inv)\n",
    "    print(\"验证 A * A_inv:\\n\", identity_matrix)\n",
    "else:\n",
    "    print(\"矩阵 A 是奇异的，无法计算逆矩阵。\")"
   ]
  },
  {
   "cell_type": "code",
   "execution_count": 53,
   "id": "5329da07",
   "metadata": {},
   "outputs": [
    {
     "data": {
      "text/plain": [
       "array([[0., 0., 0.],\n",
       "       [0., 0., 0.],\n",
       "       [0., 0., 0.]])"
      ]
     },
     "execution_count": 53,
     "metadata": {},
     "output_type": "execute_result"
    }
   ],
   "source": [
    "array_a=np.zeros((3,3))\n",
    "array_a"
   ]
  },
  {
   "cell_type": "code",
   "execution_count": 59,
   "id": "af55fc4b",
   "metadata": {},
   "outputs": [
    {
     "data": {
      "text/plain": [
       "array([[35, 85, 27, 13, 47],\n",
       "       [38, 96, 43, 59, 61],\n",
       "       [34,  2,  8, 18, 92],\n",
       "       [52, 24, 21, 93, 26]])"
      ]
     },
     "execution_count": 59,
     "metadata": {},
     "output_type": "execute_result"
    }
   ],
   "source": [
    "array_b=np.random.randint(1,100,(4,5))\n",
    "array_b "
   ]
  },
  {
   "cell_type": "code",
   "execution_count": 65,
   "id": "deed6f9c",
   "metadata": {},
   "outputs": [
    {
     "data": {
      "text/plain": [
       "np.int64(32)"
      ]
     },
     "execution_count": 65,
     "metadata": {},
     "output_type": "execute_result"
    }
   ],
   "source": [
    "arr = np.array([1, 2, 3, 4, 5])\n",
    "arr*10\n",
    "a = np.array([1, 2, 3])\n",
    "b = np.array([4, 5, 6])\n",
    "a_b=np.dot(a,b)\n",
    "a_b"
   ]
  },
  {
   "cell_type": "code",
   "execution_count": 74,
   "id": "1e96c2f7",
   "metadata": {},
   "outputs": [
    {
     "data": {
      "text/plain": [
       "array([[1, 2],\n",
       "       [4, 5],\n",
       "       [7, 8]])"
      ]
     },
     "execution_count": 74,
     "metadata": {},
     "output_type": "execute_result"
    }
   ],
   "source": [
    "arr = np.array([[1, 2, 3], [4, 5, 6], [7, 8, 9]])\n",
    "arr[:, 0:2]\n"
   ]
  },
  {
   "cell_type": "code",
   "execution_count": 78,
   "id": "7c8903df",
   "metadata": {},
   "outputs": [
    {
     "data": {
      "text/plain": [
       "array([[5, 6],\n",
       "       [8, 9]])"
      ]
     },
     "execution_count": 78,
     "metadata": {},
     "output_type": "execute_result"
    }
   ],
   "source": [
    "arr[1:,1:]"
   ]
  },
  {
   "cell_type": "code",
   "execution_count": 84,
   "id": "620ee485",
   "metadata": {},
   "outputs": [
    {
     "data": {
      "text/plain": [
       "array([[ 0,  1,  2,  3],\n",
       "       [ 4,  5,  6,  7],\n",
       "       [ 8,  9, 10, 11]])"
      ]
     },
     "execution_count": 84,
     "metadata": {},
     "output_type": "execute_result"
    }
   ],
   "source": [
    "arr = np.arange(12)\n",
    "arr.reshape(3,4)"
   ]
  },
  {
   "cell_type": "code",
   "execution_count": 90,
   "id": "77a74dd6",
   "metadata": {},
   "outputs": [
    {
     "data": {
      "text/plain": [
       "array([1, 2, 3, 4])"
      ]
     },
     "execution_count": 90,
     "metadata": {},
     "output_type": "execute_result"
    }
   ],
   "source": [
    "arr = np.array([[1, 2], [3, 4]])\n",
    "arr.flatten()"
   ]
  },
  {
   "cell_type": "code",
   "execution_count": 93,
   "id": "0b8935fa",
   "metadata": {},
   "outputs": [
    {
     "name": "stdout",
     "output_type": "stream",
     "text": [
      "mean= 3.0 \n",
      " median= 3.0 \n",
      " std= 1.4142135623730951\n"
     ]
    }
   ],
   "source": [
    "arr = np.array([1, 2, 3, 4, 5])\n",
    "mean = np.mean(arr)\n",
    "median=np.median(arr)\n",
    "std = np.std(arr)\n",
    "print(\"mean=\",mean,\"\\n\",\"median=\",median,\"\\n\",\"std=\",std)"
   ]
  },
  {
   "cell_type": "code",
   "execution_count": 96,
   "id": "c0c45453",
   "metadata": {},
   "outputs": [
    {
     "name": "stdout",
     "output_type": "stream",
     "text": [
      "1 4\n"
     ]
    }
   ],
   "source": [
    "arr = np.array([[1, 2], [3, 4]])\n",
    "min = np.min(arr)\n",
    "max=np.max(arr)\n",
    "print(min,max)"
   ]
  },
  {
   "cell_type": "code",
   "execution_count": 102,
   "id": "702d9dcf",
   "metadata": {},
   "outputs": [
    {
     "data": {
      "text/plain": [
       "array([4, 5, 6])"
      ]
     },
     "execution_count": 102,
     "metadata": {},
     "output_type": "execute_result"
    }
   ],
   "source": [
    "arr = np.array([1, 2, 3, 4, 5, 6])\n",
    "newarr = arr[arr > 3]\n",
    "newarr"
   ]
  },
  {
   "cell_type": "markdown",
   "id": "78887a18",
   "metadata": {},
   "source": [
    "Replace all elements less than 5 with 0 in the array arr = np.array([[1, 2, 3], [4, 5, 6]]).\n"
   ]
  },
  {
   "cell_type": "code",
   "execution_count": 103,
   "id": "56c841c8",
   "metadata": {},
   "outputs": [
    {
     "data": {
      "text/plain": [
       "array([[0, 0, 0],\n",
       "       [0, 5, 6]])"
      ]
     },
     "execution_count": 103,
     "metadata": {},
     "output_type": "execute_result"
    }
   ],
   "source": [
    "arr = np.array([[1, 2, 3], [4, 5, 6]])\n",
    "arr[arr<5]=0 \n",
    "# arr = np.where(arr < 5, 0, arr)\n",
    "arr"
   ]
  },
  {
   "cell_type": "markdown",
   "id": "c69e98c6",
   "metadata": {},
   "source": [
    "Concatenate two arrays a = np.array([1, 2, 3]) and b = np.array([4, 5, 6]) vertically.\n"
   ]
  },
  {
   "cell_type": "code",
   "execution_count": 109,
   "id": "8f94f306",
   "metadata": {},
   "outputs": [
    {
     "data": {
      "text/plain": [
       "array([[1, 2, 3],\n",
       "       [4, 5, 6]])"
      ]
     },
     "execution_count": 109,
     "metadata": {},
     "output_type": "execute_result"
    }
   ],
   "source": [
    "a=np.array([1,2,3])\n",
    "b=np.array([4,5,6])\n",
    "c=np.vstack((a,b))\n",
    "c"
   ]
  },
  {
   "cell_type": "code",
   "execution_count": 107,
   "id": "c0052e46",
   "metadata": {},
   "outputs": [
    {
     "data": {
      "text/plain": [
       "[array([0, 1, 2, 3]), array([4, 5, 6]), array([7, 8, 9])]"
      ]
     },
     "execution_count": 107,
     "metadata": {},
     "output_type": "execute_result"
    }
   ],
   "source": [
    "arr = np.arange(10)\n",
    "np.array_split(arr,3)"
   ]
  },
  {
   "cell_type": "markdown",
   "id": "5e343110",
   "metadata": {},
   "source": [
    "Compute the determinant of the matrix A = np.array([[1, 2], [3, 4]]).\n"
   ]
  },
  {
   "cell_type": "code",
   "execution_count": 111,
   "id": "dce96f83",
   "metadata": {},
   "outputs": [
    {
     "data": {
      "text/plain": [
       "np.float64(-2.0000000000000004)"
      ]
     },
     "execution_count": 111,
     "metadata": {},
     "output_type": "execute_result"
    }
   ],
   "source": [
    "A = np.array([[1, 2], [3, 4]])\n",
    "det_A=np.linalg.det(A)\n",
    "det_A"
   ]
  },
  {
   "cell_type": "markdown",
   "id": "0f7e26d0",
   "metadata": {},
   "source": [
    "Compute the eigenvalues and eigenvectors of the matrix A = np.array([[1, 2], [2, 1]]).\n"
   ]
  },
  {
   "cell_type": "markdown",
   "id": "204a6647",
   "metadata": {},
   "source": [
    "Add the array a = np.array([1, 2, 3]) to each row of the array b = np.array([[4, 5, 6], [7, 8, 9]])."
   ]
  },
  {
   "cell_type": "code",
   "execution_count": 114,
   "id": "c97a8306",
   "metadata": {},
   "outputs": [
    {
     "data": {
      "text/plain": [
       "array([[ 5,  7,  9],\n",
       "       [ 8, 10, 12]])"
      ]
     },
     "execution_count": 114,
     "metadata": {},
     "output_type": "execute_result"
    }
   ],
   "source": [
    "a = np.array([1, 2, 3])\n",
    "b = np.array([[4, 5, 6], [7, 8, 9]])\n",
    "b+a"
   ]
  },
  {
   "cell_type": "markdown",
   "id": "1bc7205e",
   "metadata": {},
   "source": [
    "Multiply the array a = np.array([1, 2, 3]) with each column of the array b = np.array([[4, 5], [6, 7], [8, 9]])."
   ]
  },
  {
   "cell_type": "code",
   "execution_count": 123,
   "id": "8634e17a",
   "metadata": {},
   "outputs": [
    {
     "data": {
      "text/plain": [
       "array([[ 4,  5],\n",
       "       [12, 14],\n",
       "       [24, 27]])"
      ]
     },
     "execution_count": 123,
     "metadata": {},
     "output_type": "execute_result"
    }
   ],
   "source": [
    "a = np.array([1, 2, 3])\n",
    "b = np.array([[4, 5], [6, 7], [8, 9]])\n",
    "a=np.reshape(a,(3,-1))\n",
    "a*b\n",
    "# result = a[:, np.newaxis] * b\n",
    "# result"
   ]
  },
  {
   "cell_type": "markdown",
   "id": "c647cf81",
   "metadata": {},
   "source": [
    "Given the array arr = np.array([[1, 2, 3], [4, 5, 6], [7, 8, 9]]), extract the elements at positions (0, 1), (1, 2), and (2, 0).\n",
    "Replace the diagonal elements of the array arr with 0.\n"
   ]
  },
  {
   "cell_type": "code",
   "execution_count": 130,
   "id": "a2dc6f1b",
   "metadata": {},
   "outputs": [
    {
     "data": {
      "text/plain": [
       "array([[0, 2, 3],\n",
       "       [4, 0, 6],\n",
       "       [7, 8, 0]])"
      ]
     },
     "execution_count": 130,
     "metadata": {},
     "output_type": "execute_result"
    }
   ],
   "source": [
    "arr = np.array([[1, 2, 3], [4, 5, 6], [7, 8, 9]])\n",
    "extracted_elements = arr[[0, 1, 2], [1, 2, 0]]\n",
    "np.fill_diagonal(arr, 0)\n",
    "extracted_elements\n",
    "arr"
   ]
  },
  {
   "cell_type": "markdown",
   "id": "6619f73f",
   "metadata": {},
   "source": [
    "Solve the System of Linear Equations\n",
    "Equations:\n",
    "2x+3y=5\n",
    "4x+5y=7"
   ]
  },
  {
   "cell_type": "code",
   "execution_count": 131,
   "id": "64becdd3",
   "metadata": {},
   "outputs": [
    {
     "name": "stdout",
     "output_type": "stream",
     "text": [
      "Solution for x and y: [-2.  3.]\n"
     ]
    }
   ],
   "source": [
    "# Coefficients matrix\n",
    "coeff_matrix = np.array([[2, 3],\n",
    "                         [4, 5]])\n",
    "\n",
    "# Constants vector\n",
    "const_vector = np.array([5, 7])\n",
    "\n",
    "# Solve the system\n",
    "solution = np.linalg.solve(coeff_matrix, const_vector)\n",
    "print(\"Solution for x and y:\", solution)"
   ]
  },
  {
   "cell_type": "code",
   "execution_count": 132,
   "id": "dc843330",
   "metadata": {},
   "outputs": [
    {
     "name": "stdout",
     "output_type": "stream",
     "text": [
      "Shuffled Array:\n",
      " [[1 2 3]\n",
      " [7 8 9]\n",
      " [4 5 6]]\n"
     ]
    }
   ],
   "source": [
    "# Define array\n",
    "arr = np.array([[1, 2, 3],\n",
    "                [4, 5, 6],\n",
    "                [7, 8, 9]])\n",
    "\n",
    "# Shuffle the rows\n",
    "np.random.shuffle(arr)\n",
    "print(\"Shuffled Array:\\n\", arr)"
   ]
  },
  {
   "cell_type": "code",
   "execution_count": 133,
   "id": "ac128d22",
   "metadata": {},
   "outputs": [
    {
     "name": "stdout",
     "output_type": "stream",
     "text": [
      "Loaded Array:\n",
      " [[1. 2. 3.]\n",
      " [4. 5. 6.]]\n"
     ]
    }
   ],
   "source": [
    "# Array to save\n",
    "arr_to_save = np.array([[1, 2, 3],\n",
    "                        [4, 5, 6]])\n",
    "\n",
    "# Save array to file\n",
    "np.savetxt(\"array.txt\", arr_to_save)\n",
    "\n",
    "# Load array from file\n",
    "loaded_array = np.loadtxt(\"array.txt\")\n",
    "print(\"Loaded Array:\\n\", loaded_array)"
   ]
  },
  {
   "cell_type": "code",
   "execution_count": 134,
   "id": "ddde85a1",
   "metadata": {},
   "outputs": [
    {
     "name": "stdout",
     "output_type": "stream",
     "text": [
      "Normalized Array:\n",
      " [[-1.22474487 -1.22474487 -1.22474487]\n",
      " [ 0.          0.          0.        ]\n",
      " [ 1.22474487  1.22474487  1.22474487]]\n"
     ]
    }
   ],
   "source": [
    "def normalize_array(arr):\n",
    "    # Subtract mean and divide by standard deviation for each column\n",
    "    mean = np.mean(arr, axis=0)\n",
    "    std_dev = np.std(arr, axis=0)\n",
    "    return (arr - mean) / std_dev\n",
    "\n",
    "# Example usage\n",
    "arr_to_normalize = np.array([[1, 2, 3],\n",
    "                              [4, 5, 6],\n",
    "                              [7, 8, 9]])\n",
    "normalized_arr = normalize_array(arr_to_normalize)\n",
    "print(\"Normalized Array:\\n\", normalized_arr)"
   ]
  },
  {
   "cell_type": "markdown",
   "id": "681f7a7f",
   "metadata": {},
   "source": [
    "Euclidean Distance Between Two Vectors"
   ]
  },
  {
   "cell_type": "code",
   "execution_count": 135,
   "id": "4f368900",
   "metadata": {},
   "outputs": [
    {
     "name": "stdout",
     "output_type": "stream",
     "text": [
      "Euclidean Distance: 5.196152422706632\n"
     ]
    }
   ],
   "source": [
    "def euclidean_distance(vec1, vec2):\n",
    "    # Compute Euclidean distance\n",
    "    return np.linalg.norm(vec1 - vec2)\n",
    "\n",
    "# Example usage\n",
    "v1 = np.array([1, 2, 3])\n",
    "v2 = np.array([4, 5, 6])\n",
    "print(\"Euclidean Distance:\", euclidean_distance(v1, v2))"
   ]
  },
  {
   "cell_type": "code",
   "execution_count": 141,
   "id": "4bee5934",
   "metadata": {},
   "outputs": [
    {
     "name": "stdout",
     "output_type": "stream",
     "text": [
      "Sum using Python loop: 500245.3228933129\n",
      "Time taken by Python loop: 0.17285 seconds\n",
      "\n",
      "Sum using np.sum(): 500245.3228933173\n",
      "Time taken by np.sum(): 0.00040 seconds\n",
      "\n",
      "Both sums are approximately equal.\n"
     ]
    }
   ],
   "source": [
    "import time\n",
    "# Generate a large 1000x1000 array with random values\n",
    "arr = np.random.rand(1000, 1000)\n",
    "\n",
    "# 1. Sum using a Python loop\n",
    "start_time_loop = time.time()\n",
    "sum_loop = 0\n",
    "for i in range(arr.shape[0]):\n",
    "    for j in range(arr.shape[1]):\n",
    "        sum_loop += arr[i, j]\n",
    "end_time_loop = time.time()\n",
    "\n",
    "# 2. Sum using NumPy's np.sum()\n",
    "start_time_np = time.time()\n",
    "sum_np = np.sum(arr)\n",
    "end_time_np = time.time()\n",
    "\n",
    "# Print the results\n",
    "print(f\"Sum using Python loop: {sum_loop}\")\n",
    "print(f\"Time taken by Python loop: {end_time_loop - start_time_loop:.5f} seconds\")\n",
    "\n",
    "print(f\"\\nSum using np.sum(): {sum_np}\")\n",
    "print(f\"Time taken by np.sum(): {end_time_np - start_time_np:.5f} seconds\")\n",
    "\n",
    "# Check if both sums are equal\n",
    "if np.isclose(sum_loop, sum_np):\n",
    "    print(\"\\nBoth sums are approximately equal.\")\n",
    "else:\n",
    "    print(\"\\nSums do not match!\")"
   ]
  },
  {
   "cell_type": "code",
   "execution_count": null,
   "id": "84e3ca67",
   "metadata": {},
   "outputs": [],
   "source": []
  }
 ],
 "metadata": {
  "kernelspec": {
   "display_name": "Python 3",
   "language": "python",
   "name": "python3"
  },
  "language_info": {
   "codemirror_mode": {
    "name": "ipython",
    "version": 3
   },
   "file_extension": ".py",
   "mimetype": "text/x-python",
   "name": "python",
   "nbconvert_exporter": "python",
   "pygments_lexer": "ipython3",
   "version": "3.12.2"
  }
 },
 "nbformat": 4,
 "nbformat_minor": 5
}
